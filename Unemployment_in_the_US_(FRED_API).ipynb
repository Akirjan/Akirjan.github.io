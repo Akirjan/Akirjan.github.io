{
  "nbformat": 4,
  "nbformat_minor": 0,
  "metadata": {
    "colab": {
      "provenance": [],
      "authorship_tag": "ABX9TyMODHemBfWnp9pVQVFFoucb",
      "include_colab_link": true
    },
    "kernelspec": {
      "name": "python3",
      "display_name": "Python 3"
    },
    "language_info": {
      "name": "python"
    }
  },
  "cells": [
    {
      "cell_type": "markdown",
      "metadata": {
        "id": "view-in-github",
        "colab_type": "text"
      },
      "source": [
        "<a href=\"https://colab.research.google.com/github/Akirjan/Akirjan.github.io/blob/main/Unemployment_in_the_US_(FRED_API).ipynb\" target=\"_parent\"><img src=\"https://colab.research.google.com/assets/colab-badge.svg\" alt=\"Open In Colab\"/></a>"
      ]
    },
    {
      "cell_type": "code",
      "source": [
        "#installing the FRED API and supressing output\n",
        "!pip install fredapi > /dev/null"
      ],
      "metadata": {
        "id": "Yfg9nGl7sVXZ"
      },
      "execution_count": 1,
      "outputs": []
    },
    {
      "cell_type": "code",
      "execution_count": 2,
      "metadata": {
        "id": "FJOx8OuGTIqI"
      },
      "outputs": [],
      "source": [
        "#import pandas, numpy\n",
        "import pandas as pd\n",
        "import numpy as np\n",
        "# import for visualisations\n",
        "import matplotlib.pyplot as plt\n",
        "import plotly.express as px\n",
        "\n",
        "#import plotting style\n",
        "plt.style.use('fivethirtyeight')\n",
        "\n",
        "#add colour pallet\n",
        "color_pal = plt.rcParams[\"axes.prop_cycle\"].by_key()[\"color\"]\n",
        "\n",
        "#from this FRED API, I am going to import FRED\n",
        "from fredapi import Fred\n",
        "\n",
        "# get my FRED API key\n",
        "fred_key = '41ff00ff0502b5a03c8dcc99b7ccbe7d'"
      ]
    },
    {
      "cell_type": "code",
      "source": [
        "#Create the FRED object\n",
        "fred = Fred(api_key=fred_key)"
      ],
      "metadata": {
        "id": "093ThlWgV1dZ"
      },
      "execution_count": 3,
      "outputs": []
    },
    {
      "cell_type": "code",
      "source": [
        "# search for economic data\n",
        "sp_search = fred.search('S&P', order_by='popularity')"
      ],
      "metadata": {
        "id": "rkgAHlmwuksB"
      },
      "execution_count": 4,
      "outputs": []
    },
    {
      "cell_type": "code",
      "source": [
        "sp_search.head()"
      ],
      "metadata": {
        "id": "u20hX5r7vvcG"
      },
      "execution_count": null,
      "outputs": []
    },
    {
      "cell_type": "code",
      "source": [
        "#Pull raw data using series ID\n",
        "sp500 = fred.get_series(series_id='SP500')"
      ],
      "metadata": {
        "id": "HY0m6lAuwFHD"
      },
      "execution_count": 6,
      "outputs": []
    },
    {
      "cell_type": "code",
      "source": [
        "#plot the data\n",
        "sp500.plot(figsize=(10,5), title = 'S&P 500', lw =2)"
      ],
      "metadata": {
        "id": "_Npl1vcrwoJ6"
      },
      "execution_count": null,
      "outputs": []
    },
    {
      "cell_type": "code",
      "source": [
        "#pull and join multiple data series\n",
        "#lets look at some unemployment data\n",
        "unemployment_results = fred.search('unemployment')"
      ],
      "metadata": {
        "id": "p6dbbs4UwtqR"
      },
      "execution_count": 16,
      "outputs": []
    },
    {
      "cell_type": "code",
      "source": [
        "unemployment_results"
      ],
      "metadata": {
        "id": "t4kvdRCSxaTO"
      },
      "execution_count": null,
      "outputs": []
    },
    {
      "cell_type": "code",
      "source": [
        "# pull out data called 'UNRATE'\n",
        "unrate = fred.get_series (series_id='UNRATE')"
      ],
      "metadata": {
        "id": "8V7xdl2Txovj"
      },
      "execution_count": 10,
      "outputs": []
    },
    {
      "cell_type": "code",
      "source": [
        "unrate"
      ],
      "metadata": {
        "id": "9Gu-5q_Sx_cI"
      },
      "execution_count": null,
      "outputs": []
    },
    {
      "cell_type": "code",
      "source": [
        "#plot data of new series\n",
        "unrate.plot(figsize=(12,5), title = 'Unemployment rate', lw =2)"
      ],
      "metadata": {
        "id": "j3HLOjHuyCFZ"
      },
      "execution_count": null,
      "outputs": []
    },
    {
      "cell_type": "code",
      "source": [
        "# from this exercise I was able to import data straight from FRED using an API.\n",
        "# I was able to visualise data of the S&P 500 and the unemployment rate in the USA.\n",
        "# I did not have to upload any data and the API allows for automatic updates."
      ],
      "metadata": {
        "id": "izpkVYmrk54p"
      },
      "execution_count": null,
      "outputs": []
    }
  ]
}